{
 "cells": [
  {
   "cell_type": "code",
   "execution_count": 1,
   "metadata": {},
   "outputs": [],
   "source": [
    "import pandas as pd\n",
    "import numpy as np\n",
    "from sklearn.preprocessing import StandardScaler\n",
    "from sklearn.model_selection import train_test_split\n",
    "from sklearn.metrics import recall_score , precision_score, accuracy_score\n",
    "from sklearn import svm\n",
    "df = pd.read_csv(\"Heart.csv\")\n",
    "x = df.drop(\"target\",axis=1)\n",
    "y= df[\"target\"]\n",
    "x= np.array(x)\n",
    "y= np.array(y)\n",
    "std  = StandardScaler()\n",
    "x = std.fit_transform(x)\n",
    "x_train , x_test , y_train , y_test = train_test_split(x , y , test_size=0.2)\n",
    "svm= svm.SVC(kernel= \"linear\")\n",
    "svm.fit(x_train,y_train)\n",
    "y_pred_train = svm.predict(x_train)\n",
    "y_pred_test = svm.predict(x_test)\n",
    "acc_train = accuracy_score(y_true=y_train , y_pred=y_pred_train)\n",
    "acc_test = accuracy_score(y_true=y_test, y_pred=y_pred_test)\n",
    "re_train = recall_score(y_true=y_train , y_pred=y_pred_train)\n",
    "re_test = recall_score(y_true=y_test, y_pred=y_pred_test)\n",
    "pr_train = precision_score(y_true=y_train , y_pred=y_pred_train)\n",
    "pr_test = precision_score(y_true=y_test, y_pred=y_pred_test)\n",
    "\n"
   ]
  },
  {
   "cell_type": "code",
   "execution_count": 2,
   "metadata": {},
   "outputs": [
    {
     "data": {
      "text/plain": [
       "(0.8455882352941176, 0.8109243697478992)"
      ]
     },
     "execution_count": 2,
     "metadata": {},
     "output_type": "execute_result"
    }
   ],
   "source": [
    "acc_train , acc_test"
   ]
  },
  {
   "cell_type": "code",
   "execution_count": 3,
   "metadata": {},
   "outputs": [
    {
     "data": {
      "text/plain": [
       "(0.819672131147541, 0.8461538461538461)"
      ]
     },
     "execution_count": 3,
     "metadata": {},
     "output_type": "execute_result"
    }
   ],
   "source": [
    "re_test , re_train"
   ]
  },
  {
   "cell_type": "code",
   "execution_count": 4,
   "metadata": {},
   "outputs": [
    {
     "data": {
      "text/plain": [
       "(0.8130081300813008, 0.8614457831325302)"
      ]
     },
     "execution_count": 4,
     "metadata": {},
     "output_type": "execute_result"
    }
   ],
   "source": [
    "pr_test , pr_train"
   ]
  },
  {
   "cell_type": "code",
   "execution_count": 6,
   "metadata": {},
   "outputs": [
    {
     "ename": "NameError",
     "evalue": "name 'svc' is not defined",
     "output_type": "error",
     "traceback": [
      "\u001b[1;31m---------------------------------------------------------------------------\u001b[0m",
      "\u001b[1;31mNameError\u001b[0m                                 Traceback (most recent call last)",
      "Cell \u001b[1;32mIn[6], line 18\u001b[0m\n\u001b[0;32m     15\u001b[0m new_patient_scaled \u001b[38;5;241m=\u001b[39m std\u001b[38;5;241m.\u001b[39mtransform(new_patient)\n\u001b[0;32m     17\u001b[0m \u001b[38;5;66;03m# پیش‌بینی وضعیت بیمار جدید\u001b[39;00m\n\u001b[1;32m---> 18\u001b[0m prediction \u001b[38;5;241m=\u001b[39m \u001b[43msvc\u001b[49m\u001b[38;5;241m.\u001b[39mpredict(new_patient_scaled)\n\u001b[0;32m     20\u001b[0m \u001b[38;5;66;03m# تفسیر نتیجه‌ی پیش‌بینی\u001b[39;00m\n\u001b[0;32m     21\u001b[0m \u001b[38;5;28;01mif\u001b[39;00m prediction[\u001b[38;5;241m0\u001b[39m] \u001b[38;5;241m==\u001b[39m \u001b[38;5;241m1\u001b[39m:\n",
      "\u001b[1;31mNameError\u001b[0m: name 'svc' is not defined"
     ]
    }
   ],
   "source": [
    "x= float(input(\"new a\"))\n",
    "a = float(input(\"new b\"))\n",
    "b = float(input(\"new c\"))\n",
    "c = float(input(\"new d\"))\n",
    "d = float(input(\"new f\"))\n",
    "f = float(input(\"new g\"))\n",
    "g = float(input(\"new h\"))\n",
    "h = float(input(\"new j\"))\n",
    "j = float(input(\"new k\"))\n",
    "k= float(input(\"new t\"))\n",
    "l = float(input(\"new l\"))\n",
    "new_patient = np.array([[x, a, b, c, d, f, g, h,j, k, l]])\n",
    "\n",
    "# استانداردسازی داده‌های بیمار جدید\n",
    "new_patient_scaled = std.transform(new_patient)\n",
    "\n",
    "# پیش‌بینی وضعیت بیمار جدید\n",
    "prediction = svm.predict(new_patient_scaled)\n",
    "\n",
    "# تفسیر نتیجه‌ی پیش‌بینی\n",
    "if prediction[0] == 1:\n",
    "    print(\"marize\")\n",
    "else:\n",
    "    print(\"saleme\")"
   ]
  }
 ],
 "metadata": {
  "kernelspec": {
   "display_name": "TML",
   "language": "python",
   "name": "python3"
  },
  "language_info": {
   "codemirror_mode": {
    "name": "ipython",
    "version": 3
   },
   "file_extension": ".py",
   "mimetype": "text/x-python",
   "name": "python",
   "nbconvert_exporter": "python",
   "pygments_lexer": "ipython3",
   "version": "3.12.4"
  }
 },
 "nbformat": 4,
 "nbformat_minor": 2
}
