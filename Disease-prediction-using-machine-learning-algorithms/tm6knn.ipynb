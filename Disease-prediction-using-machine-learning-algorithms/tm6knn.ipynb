{
 "cells": [
  {
   "cell_type": "code",
   "execution_count": 9,
   "metadata": {},
   "outputs": [],
   "source": [
    "import pandas as pd\n",
    "import numpy as np\n",
    "from sklearn.preprocessing import StandardScaler\n",
    "from sklearn.model_selection import train_test_split\n",
    "from sklearn.neighbors import KNeighborsClassifier\n",
    "from sklearn.metrics import recall_score , precision_score, accuracy_score\n",
    "df = pd.read_csv(\"Heart.csv\")\n",
    "x = df.drop(\"target\",axis=1)\n",
    "y= df[\"target\"]\n",
    "x= np.array(x)\n",
    "y= np.array(y)\n",
    "std  = StandardScaler()\n",
    "x = std.fit_transform(x)\n",
    "x_train , x_test , y_train , y_test = train_test_split(x , y , test_size=0.2)\n",
    "model = KNeighborsClassifier(n_neighbors=4)\n",
    "model.fit(x_train,y_train)\n",
    "y_pred_train = model.predict(x_train)\n",
    "y_pred_test = model.predict(x_test)\n",
    "\n"
   ]
  },
  {
   "cell_type": "code",
   "execution_count": 10,
   "metadata": {},
   "outputs": [],
   "source": [
    "acc_train = accuracy_score(y_true=y_train , y_pred=y_pred_train)\n",
    "acc_test = accuracy_score(y_true=y_test, y_pred=y_pred_test)\n",
    "re_train = recall_score(y_true=y_train , y_pred=y_pred_train)\n",
    "re_test = recall_score(y_true=y_test, y_pred=y_pred_test)\n",
    "pr_train = precision_score(y_true=y_train , y_pred=y_pred_train)\n",
    "pr_test = precision_score(y_true=y_test, y_pred=y_pred_test)\n",
    "\n"
   ]
  },
  {
   "cell_type": "code",
   "execution_count": 11,
   "metadata": {},
   "outputs": [
    {
     "data": {
      "text/plain": [
       "(0.898109243697479, 0.8403361344537815)"
      ]
     },
     "execution_count": 11,
     "metadata": {},
     "output_type": "execute_result"
    }
   ],
   "source": [
    "acc_train , acc_test"
   ]
  },
  {
   "cell_type": "code",
   "execution_count": 12,
   "metadata": {},
   "outputs": [
    {
     "data": {
      "text/plain": [
       "(np.float64(0.7886178861788617), np.float64(0.8517786561264822))"
      ]
     },
     "execution_count": 12,
     "metadata": {},
     "output_type": "execute_result"
    }
   ],
   "source": [
    "re_test , re_train"
   ]
  },
  {
   "cell_type": "code",
   "execution_count": 13,
   "metadata": {},
   "outputs": [
    {
     "data": {
      "text/plain": [
       "(np.float64(0.8899082568807339), np.float64(0.9514348785871964))"
      ]
     },
     "execution_count": 13,
     "metadata": {},
     "output_type": "execute_result"
    }
   ],
   "source": [
    "pr_test , pr_train"
   ]
  },
  {
   "cell_type": "code",
   "execution_count": 14,
   "metadata": {},
   "outputs": [
    {
     "name": "stdout",
     "output_type": "stream",
     "text": [
      "marize\n"
     ]
    }
   ],
   "source": [
    "x= float(input(\"new a\"))\n",
    "a = float(input(\"new b\"))\n",
    "b = float(input(\"new c\"))\n",
    "c = float(input(\"new d\"))\n",
    "d = float(input(\"new f\"))\n",
    "f = float(input(\"new g\"))\n",
    "g = float(input(\"new h\"))\n",
    "h = float(input(\"new j\"))\n",
    "j = float(input(\"new k\"))\n",
    "k= float(input(\"new t\"))\n",
    "l = float(input(\"new l\"))\n",
    "new_patient = np.array([[x, a, b, c, d, f, g, h,j, k, l]])\n",
    "\n",
    "# استانداردسازی داده‌های بیمار جدید\n",
    "new_patient_scaled = std.transform(new_patient)\n",
    "\n",
    "# پیش‌بینی وضعیت بیمار جدید\n",
    "prediction = model.predict(new_patient_scaled)\n",
    "\n",
    "# تفسیر نتیجه‌ی پیش‌بینی\n",
    "if prediction[0] == 1:\n",
    "    print(\"marize\")\n",
    "else:\n",
    "    print(\"saleme\")\n",
    "    "
   ]
  }
 ],
 "metadata": {
  "kernelspec": {
   "display_name": "TML",
   "language": "python",
   "name": "python3"
  },
  "language_info": {
   "codemirror_mode": {
    "name": "ipython",
    "version": 3
   },
   "file_extension": ".py",
   "mimetype": "text/x-python",
   "name": "python",
   "nbconvert_exporter": "python",
   "pygments_lexer": "ipython3",
   "version": "3.12.4"
  }
 },
 "nbformat": 4,
 "nbformat_minor": 2
}
