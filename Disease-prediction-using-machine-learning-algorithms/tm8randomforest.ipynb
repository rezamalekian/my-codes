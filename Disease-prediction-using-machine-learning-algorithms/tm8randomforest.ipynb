{
 "cells": [
  {
   "cell_type": "code",
   "execution_count": 1,
   "metadata": {},
   "outputs": [],
   "source": [
    "import pandas as pd\n",
    "import numpy as np\n",
    "from sklearn.preprocessing import StandardScaler\n",
    "from sklearn.model_selection import train_test_split\n",
    "from sklearn.metrics import recall_score , precision_score, accuracy_score\n",
    "from sklearn.ensemble import RandomForestClassifier\n",
    "df = pd.read_csv(\"Heart.csv\")\n",
    "x = df.drop(\"target\",axis=1)\n",
    "y= df[\"target\"]\n",
    "x= np.array(x)\n",
    "y= np.array(y)\n",
    "std  = StandardScaler()\n",
    "x = std.fit_transform(x)\n",
    "x_train , x_test , y_train , y_test = train_test_split(x , y , test_size=0.2)\n",
    "rd = RandomForestClassifier(n_estimators=100)\n",
    "rd.fit(x_train,y_train)\n",
    "y_pred_train = rd.predict(x_train)\n",
    "y_pred_test = rd.predict(x_test)\n",
    "acc_train = accuracy_score(y_true=y_train , y_pred=y_pred_train)\n",
    "acc_test = accuracy_score(y_true=y_test, y_pred=y_pred_test)\n",
    "re_train = recall_score(y_true=y_train , y_pred=y_pred_train)\n",
    "re_test = recall_score(y_true=y_test, y_pred=y_pred_test)\n",
    "pr_train = precision_score(y_true=y_train , y_pred=y_pred_train)\n",
    "pr_test = precision_score(y_true=y_test, y_pred=y_pred_test)\n",
    "\n"
   ]
  },
  {
   "cell_type": "code",
   "execution_count": 2,
   "metadata": {},
   "outputs": [
    {
     "data": {
      "text/plain": [
       "(1.0, 0.9369747899159664)"
      ]
     },
     "execution_count": 2,
     "metadata": {},
     "output_type": "execute_result"
    }
   ],
   "source": [
    "acc_train , acc_test"
   ]
  },
  {
   "cell_type": "code",
   "execution_count": 3,
   "metadata": {},
   "outputs": [
    {
     "data": {
      "text/plain": [
       "(0.956140350877193, 1.0)"
      ]
     },
     "execution_count": 3,
     "metadata": {},
     "output_type": "execute_result"
    }
   ],
   "source": [
    "re_test , re_train"
   ]
  },
  {
   "cell_type": "code",
   "execution_count": 4,
   "metadata": {},
   "outputs": [
    {
     "data": {
      "text/plain": [
       "(np.float64(0.873015873015873), np.float64(1.0))"
      ]
     },
     "execution_count": 4,
     "metadata": {},
     "output_type": "execute_result"
    }
   ],
   "source": [
    "pr_test , pr_train"
   ]
  },
  {
   "cell_type": "code",
   "execution_count": 8,
   "metadata": {},
   "outputs": [
    {
     "name": "stdout",
     "output_type": "stream",
     "text": [
      "saleme\n"
     ]
    }
   ],
   "source": [
    "x= float(input(\"new a\"))\n",
    "a = float(input(\"new b\"))\n",
    "b = float(input(\"new c\"))\n",
    "c = float(input(\"new d\"))\n",
    "d = float(input(\"new f\"))\n",
    "f = float(input(\"new g\"))\n",
    "g = float(input(\"new h\"))\n",
    "h = float(input(\"new j\"))\n",
    "j = float(input(\"new k\"))\n",
    "k= float(input(\"new t\"))\n",
    "l = float(input(\"new l\"))\n",
    "new_patient = np.array([[x, a, b, c, d, f, g, h,j, k, l]])\n",
    "\n",
    "# استانداردسازی داده‌های بیمار جدید\n",
    "new_patient_scaled = std.transform(new_patient)\n",
    "\n",
    "# پیش‌بینی وضعیت بیمار جدید\n",
    "prediction = rd.predict(new_patient_scaled)\n",
    "\n",
    "# تفسیر نتیجه‌ی پیش‌بینی\n",
    "if prediction[0] == 1:\n",
    "    print(\"marize\")\n",
    "else:\n",
    "    print(\"saleme\")\n",
    "    "
   ]
  },
  {
   "cell_type": "code",
   "execution_count": null,
   "metadata": {},
   "outputs": [],
   "source": []
  }
 ],
 "metadata": {
  "kernelspec": {
   "display_name": "TML",
   "language": "python",
   "name": "python3"
  },
  "language_info": {
   "codemirror_mode": {
    "name": "ipython",
    "version": 3
   },
   "file_extension": ".py",
   "mimetype": "text/x-python",
   "name": "python",
   "nbconvert_exporter": "python",
   "pygments_lexer": "ipython3",
   "version": "3.12.4"
  }
 },
 "nbformat": 4,
 "nbformat_minor": 2
}
